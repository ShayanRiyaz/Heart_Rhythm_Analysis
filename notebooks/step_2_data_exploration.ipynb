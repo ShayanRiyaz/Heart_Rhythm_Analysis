{
 "cells": [
  {
   "cell_type": "code",
   "execution_count": 1,
   "id": "b13c8f32",
   "metadata": {},
   "outputs": [
    {
     "name": "stdout",
     "output_type": "stream",
     "text": [
      "/Users/shayanriyaz/Documents/Projects/heart_rhythm_analysis/notebooks\n",
      "Changed dir to: /Users/shayanriyaz/Documents/Projects/heart_rhythm_analysis\n"
     ]
    }
   ],
   "source": [
    "import os, sys, glob\n",
    "\n",
    "print(os.getcwd())\n",
    "os.chdir('..')\n",
    "print(f'Changed dir to: {os.getcwd()}')"
   ]
  },
  {
   "cell_type": "code",
   "execution_count": 2,
   "id": "7c62bd98",
   "metadata": {},
   "outputs": [],
   "source": [
    "import os\n",
    "import numpy as np\n",
    "import sys\n",
    "import h5py\n",
    "import pandas as pd\n",
    "from IPython.display import display\n",
    "from random import choice\n",
    "\n",
    "project_root = os.path.abspath(os.path.join(os.getcwd()))\n",
    "\n",
    "src_dir = os.path.join(project_root, \"src\")\n",
    "if src_dir not in sys.path:\n",
    "    sys.path.insert(0, src_dir)\n",
    "\n",
    "from src.lib.create_training_pipelines.capnobase_etl import CapnoBaseETL\n",
    "from src.lib.create_training_pipelines.mimic_etl import MimicETL\n",
    "from src.lib.utils.timeseries_viewer import make_window_figure, create_time_series_viewer\n",
    "from notebooks.load_as_df import load_as_df\n",
    "\n",
    "bSetUpDB = True\n",
    "WINDOW_LEN = 8\n",
    "\n",
    "import dash\n",
    "app = dash.Dash(__name__)"
   ]
  },
  {
   "cell_type": "markdown",
   "id": "fb417597",
   "metadata": {},
   "source": [
    "# MIMIC Exploration"
   ]
  },
  {
   "cell_type": "code",
   "execution_count": 3,
   "id": "19205f50",
   "metadata": {},
   "outputs": [],
   "source": [
    "def main():\n",
    "    num_subjects = 10\n",
    "    out_path = os.path.join(f'data/development_dataset/length_full/')\n",
    "    out_filename = os.path.join(f'train_dataset')\n",
    "    df = load_as_df(out_path,out_filename,num_subjects=10)\n",
    "    return df\n"
   ]
  },
  {
   "cell_type": "code",
   "execution_count": 4,
   "id": "cb91cb9d",
   "metadata": {},
   "outputs": [
    {
     "name": "stdout",
     "output_type": "stream",
     "text": [
      "Loading: data/development_dataset/length_full//train_dataset.h5\n"
     ]
    }
   ],
   "source": [
    "specs = [\n",
    "        {\"key\":\"raw_ppg\",  \"fs_key\":\"raw_ppg_fs\",  \"subplot\":1, \"legend\":\"Raw PPG\"},\n",
    "        {\"key\":\"proc_ppg\", \"fs_key\":\"ppg_fs_out\",  \"subplot\":1, \"legend\":\"Proc PPG\"},\n",
    "        {\"key\":\"raw_ekg\",  \"fs_key\":\"ekg_fs_out\",  \"subplot\":2,               },\n",
    "        {\"key\":\"raw_abp\",  \"fs_key\":\"abp_fs_out\",  \"subplot\":3,               },\n",
    "    ]\n",
    "\n",
    "if __name__ == \"__main__\": \n",
    "    df_mimic = main()\n",
    "#     # first = df_mimic3_gen.iloc[np.random.randint(0, len(df_mimic3_gen))] \n",
    "#     chosen_subj = df_mimic['subject'].unique()[0]\n",
    "\n",
    "#     surr_subject_df = df_mimic[df_mimic['subject'] == chosen_subj]\n",
    "\n",
    "#     display(surr_subject_df.head())\n",
    "\n",
    "\n",
    "#     fig_fn = lambda window: make_window_figure(window, specs,surr_subject_df)\n",
    "    \n",
    "#     app = create_time_series_viewer(\n",
    "#     surr_subject_df,\n",
    "#     fig_fn,\n",
    "#     specs,\n",
    "#     index_label_fn=lambda idx, row: f\"{row.subject}-{row.window_count}\"\n",
    "# )\n",
    "#     print(f'Total # of Subjects: {len(df_mimic['subject'].unique())}')\n",
    "#     print(f'Total # of Windows: {df_mimic.shape[0]}')\n",
    "#     print(\"Launching Dash at http://127.0.0.1:8050 …\")\n",
    "#     app.run(debug=True,port = 8080)"
   ]
  },
  {
   "cell_type": "code",
   "execution_count": 5,
   "id": "47dce5a5",
   "metadata": {},
   "outputs": [
    {
     "name": "stdout",
     "output_type": "stream",
     "text": [
      "(10, 16)\n",
      "(153000,)\n",
      "Launching Dash at http://127.0.0.1:8080 …\n"
     ]
    },
    {
     "data": {
      "text/html": [
       "\n",
       "        <iframe\n",
       "            width=\"100%\"\n",
       "            height=\"650\"\n",
       "            src=\"http://127.0.0.1:8080/\"\n",
       "            frameborder=\"0\"\n",
       "            allowfullscreen\n",
       "            \n",
       "        ></iframe>\n",
       "        "
      ],
      "text/plain": [
       "<IPython.lib.display.IFrame at 0x16a982630>"
      ]
     },
     "metadata": {},
     "output_type": "display_data"
    }
   ],
   "source": [
    "subject_agg = {\n",
    "    # sampling & metadata: just take the first (they're constant per subject)\n",
    "    \"raw_ppg_fs\": \"first\",\n",
    "    \"ppg_fs_out\": \"first\",\n",
    "    \"ekg_fs_out\": \"first\",\n",
    "    \"abp_fs_out\": \"first\",\n",
    "    # lengths & durations: sum across windows\n",
    "    \"raw_len\":       \"sum\",\n",
    "    \"proc_len\":      \"sum\",\n",
    "    \"duration_raw_s\":  \"sum\",\n",
    "    \"duration_proc_s\": \"sum\",\n",
    "    # signals: concatenate all windows end-to-end\n",
    "    \"raw_ppg\":  lambda s: np.concatenate(s.values),\n",
    "    \"proc_ppg\": lambda s: np.concatenate(s.values),\n",
    "    \"raw_ekg\":  lambda s: np.concatenate(s.values),\n",
    "    \"raw_abp\":  lambda s: np.concatenate(s.values),\n",
    "    # if you want to keep track of window_ids or rec_ids:\n",
    "    \"window_id\": lambda s: list(s.values),\n",
    "    \"rec_id\":    lambda s: list(s.values),\n",
    "    \"label\":     lambda s: list(s.values),\n",
    "}\n",
    "\n",
    "df_by_subject = (\n",
    "    df_mimic\n",
    "    .groupby(\"subject\", as_index=False)\n",
    "    .agg(subject_agg)\n",
    ")\n",
    "\n",
    "print(df_by_subject.shape)\n",
    "print(df_by_subject.raw_ppg.iloc[0].shape)  \n",
    "\n",
    "fig_fn = lambda row: make_window_figure(row, specs)\n",
    "app = create_time_series_viewer(\n",
    "    df_by_subject,\n",
    "    fig_fn,\n",
    "    specs,\n",
    "    index_label_fn=lambda idx, row: str(row.subject)\n",
    ")\n",
    "print(\"Launching Dash at http://127.0.0.1:8080 …\")\n",
    "app.run(debug=True,port=8080)"
   ]
  },
  {
   "cell_type": "code",
   "execution_count": null,
   "id": "ac74cc70",
   "metadata": {},
   "outputs": [],
   "source": [
    "#     specs = [\n",
    "#         {\"key\":\"raw_ppg\",  \"fs_key\":\"raw_ppg_fs\",  \"subplot\":1, \"legend\":\"Raw PPG\"},\n",
    "#         {\"key\":\"proc_ppg\", \"fs_key\":\"ppg_fs_out\",  \"subplot\":1, \"legend\":\"Proc PPG\"},\n",
    "#         {\"key\":\"raw_ekg\",  \"fs_key\":\"ekg_fs_out\",  \"subplot\":2,               },\n",
    "#         {\"key\":\"raw_abp\",  \"fs_key\":\"abp_fs_out\",  \"subplot\":3,               },\n",
    "#     ]\n",
    "\n",
    "#     fig_fn = lambda window: make_window_figure(window, specs,surr_subject_df)\n",
    "    \n",
    "#     app = create_time_series_viewer(\n",
    "#     df_mimic,\n",
    "#     fig_fn,\n",
    "#     specs,\n",
    "#     index_label_fn=lambda idx, row: f\"{row.subject}-{row.window_count}\"\n",
    "# )\n",
    "#     print(f'Total # of Subjects: {len(df_mimic['subject'].unique())}')\n",
    "#     print(f'Total # of Windows: {df_mimic.shape[0]}')\n",
    "#     print(\"Launching Dash at http://127.0.0.1:8050 …\")\n",
    "#     app.run(debug=True,port = 8080)"
   ]
  },
  {
   "cell_type": "code",
   "execution_count": null,
   "id": "404bd617",
   "metadata": {},
   "outputs": [],
   "source": [
    "# subject_agg = {\n",
    "#     # sampling & metadata: just take the first (they're constant per subject)\n",
    "#     \"raw_ppg_fs\": \"first\",\n",
    "#     \"ppg_fs_out\": \"first\",\n",
    "#     \"ekg_fs_out\": \"first\",\n",
    "#     \"abp_fs_out\": \"first\",\n",
    "#     # lengths & durations: sum across windows\n",
    "#     \"raw_len\":       \"sum\",\n",
    "#     \"proc_len\":      \"sum\",\n",
    "#     \"duration_raw_s\":  \"sum\",\n",
    "#     \"duration_proc_s\": \"sum\",\n",
    "#     # signals: concatenate all windows end-to-end\n",
    "#     \"raw_ppg\":  lambda s: np.concatenate(s.values),\n",
    "#     \"proc_ppg\": lambda s: np.concatenate(s.values),\n",
    "#     \"raw_ekg\":  lambda s: np.concatenate(s.values),\n",
    "#     \"raw_abp\":  lambda s: np.concatenate(s.values),\n",
    "#     # if you want to keep track of window_ids or rec_ids:\n",
    "#     \"window_id\": lambda s: list(s.values),\n",
    "#     \"window_count\": lambda s: list(s.values),\n",
    "#     \"rec_id\":    lambda s: list(s.values),\n",
    "#     \"label\":     lambda s: list(s.values),\n",
    "#     \"notes\": lambda s: list(s.values),\n",
    "# }\n",
    "\n",
    "# # ── 2) group by subject ─\n",
    "# df_by_subject = (\n",
    "#     df_mimic\n",
    "#     .groupby(\"subject\", as_index=False)\n",
    "#     .agg(subject_agg)\n",
    "# )\n",
    "\n",
    "# # ── 3) now df_by_subject has one row per subject, with each signal a long array\n",
    "# print(df_by_subject.shape)\n",
    "# print(df_by_subject.raw_ppg.iloc[0].shape)  # e.g. (sum of all its windows,) \n",
    "\n",
    "# # bind specs & figure fn exactly as before\n",
    "# fig_fn = lambda row: make_window_figure(row, specs)\n",
    "\n",
    "# # subject‐level dashboard (labels are just the subject IDs)\n",
    "# app = create_time_series_viewer(\n",
    "#     df_by_subject,\n",
    "#     fig_fn,\n",
    "#     specs,\n",
    "#     index_label_fn=lambda idx, row: str(row.subject)\n",
    "# )\n",
    "# # print(df_by_subject['notes'])\n",
    "# print(\"Launching Dash at http://127.0.0.1:8080 …\")\n",
    "# app.run(debug=True,port=8020)"
   ]
  },
  {
   "cell_type": "code",
   "execution_count": null,
   "id": "695b6263",
   "metadata": {},
   "outputs": [],
   "source": []
  }
 ],
 "metadata": {
  "kernelspec": {
   "display_name": "heart_rhythm_applications",
   "language": "python",
   "name": "python3"
  },
  "language_info": {
   "codemirror_mode": {
    "name": "ipython",
    "version": 3
   },
   "file_extension": ".py",
   "mimetype": "text/x-python",
   "name": "python",
   "nbconvert_exporter": "python",
   "pygments_lexer": "ipython3",
   "version": "3.12.10"
  }
 },
 "nbformat": 4,
 "nbformat_minor": 5
}
